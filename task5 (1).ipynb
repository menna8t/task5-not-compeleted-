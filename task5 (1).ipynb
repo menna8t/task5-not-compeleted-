{
 "cells": [
  {
   "cell_type": "code",
   "execution_count": 28,
   "id": "d826b30c-9616-4955-9d7c-eda6cb0297fc",
   "metadata": {},
   "outputs": [
    {
     "name": "stdout",
     "output_type": "stream",
     "text": [
      "Title: quantum   Author: Eric   isbn: 978   Is it available? True\n",
      "Title: calculus   Author: Thomas   isbn: 240   Is it available? True\n",
      "Title: dynamics   Author: Hibbeler   isbn: 456   Is it available? False\n",
      " ---------------------------------\n"
     ]
    }
   ],
   "source": [
    "class Book:\n",
    "    def __init__(self, title, author, isbn, available):\n",
    "        self.title = title \n",
    "        self.author = author \n",
    "        self.isbn = isbn\n",
    "        self.available = available \n",
    "        \n",
    "    def display_info(self):\n",
    "        print(\"Title:\", self.title, \"  Author:\", self.author, \"  isbn:\", self.isbn, \"  Is it available?\", self.available)\n",
    "\n",
    "book1 = Book(\"quantum\", \"Eric\", 978, True)\n",
    "book2 = Book(\"calculus\", \"Thomas\", 240, True)\n",
    "book3 = Book(\"dynamics\", \"Hibbeler\", 456, False)\n",
    "\n",
    "library = [book1, book2, book3]\n",
    "\n",
    "book1.display_info() \n",
    "book2.display_info()\n",
    "book3.display_info()  \n",
    "print(\" ---------------------------------\")\n",
    "\n",
    "class Member:\n",
    "    def __init__(self, name, membership_id, borrowed_books=None):\n",
    "        self.name = name \n",
    "        self.membership_id = membership_id\n",
    "        \n",
    "        self.borrowed_books = borrowed_books if borrowed_books is not None else []\n",
    "    \n",
    "    def allow_to_borrow(self):\n",
    "        search_book = input(\"which book do you want? \")\n",
    "        for book in library:\n",
    "            if book.available:\n",
    "                print(\"It is available and you can borrow it\")\n",
    "            else:\n",
    "                print(\"sorry, It isn't available\")\n",
    "                return \n",
    "     def return_book (self) :\n",
    "      # i don't know how ? \n",
    "\n",
    "\n",
    "member1 = Member(\"Ahmed\", 3431325, [\"quantum\", \"calculus\"])      \n",
    "member2 = Member(\"Mohamed\", 4533345, [\"dynamics\", \"calculus\"])\n",
    "member3 = Member(\"Mona\", 543654, [\"quantum\", \"dynamics\"])\n",
    "\n",
    "class Staff(Member):\n",
    "    def __init__(self, name, membership_id, borrowed_books, stuff_id):\n",
    "        super().__init__(name, membership_id, borrowed_books)\n",
    "        self.stuff_id = stuff_id\n",
    "    \n",
    "    def add_book(self):\n",
    "        print(\"\\n--- Add a new Book----\")\n",
    "        title = input(\"Enter title: \")\n",
    "        author = input(\"Enter author: \")\n",
    "        isbn = int(input(\"Enter isbn: \"))\n",
    "        available = True\n",
    "        library.append(Book(title, author, isbn, available))\n",
    "staff1 = Staff(\"Alaa\", 565556, [\"calculus\", \"dynamics\"], 988999)\n",
    "staff2 = Staff(\"Malak\", 89779, [\"quantum\", \"dynamics\"], 76878)\n",
    "\n",
    "        \n",
    "        \n",
    "         \n",
    "     \n",
    "     \n",
    "    \n",
    "    \n",
    "     "
   ]
  },
  {
   "cell_type": "code",
   "execution_count": null,
   "id": "567c64d8-3ab7-4f05-8778-d6815ed724d8",
   "metadata": {},
   "outputs": [],
   "source": []
  }
 ],
 "metadata": {
  "kernelspec": {
   "display_name": "Python [conda env:base] *",
   "language": "python",
   "name": "conda-base-py"
  },
  "language_info": {
   "codemirror_mode": {
    "name": "ipython",
    "version": 3
   },
   "file_extension": ".py",
   "mimetype": "text/x-python",
   "name": "python",
   "nbconvert_exporter": "python",
   "pygments_lexer": "ipython3",
   "version": "3.13.5"
  }
 },
 "nbformat": 4,
 "nbformat_minor": 5
}
